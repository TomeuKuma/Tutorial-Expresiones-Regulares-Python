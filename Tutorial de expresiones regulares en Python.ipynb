{
 "cells": [
  {
   "cell_type": "markdown",
   "metadata": {},
   "source": [
    "# Introducción a las \"Regular Expressions\" (regex) en Python"
   ]
  },
  {
   "cell_type": "markdown",
   "metadata": {},
   "source": [
    "Las \"Expresiones Regulares\" son patrones de concordancia de texto escritos con una sintaxis formal. Puede que hayas oído a menudo que se refieran a ellas como \"regex\" o \"regexp\" en una conversación. "
   ]
  },
  {
   "cell_type": "markdown",
   "metadata": {},
   "source": [
    "Estas expresiones puede incluir una gran variedad de reglas: desde encontrar una repetición, hasta la coincidencia de textos y mucho más. A medida que va avanzándose en el mundo de Python, se descubre que la mayoría de problemas de análisis pueden resolverse con expresiones regulares (¡y son también una pregunta habitual en entrevistas de trabajo!)."
   ]
  },
  {
   "cell_type": "markdown",
   "metadata": {},
   "source": [
    "Si \"Perl\" te suena familiar, te darás cuenta de que la sintaxis de este lenguaje es muy similar a las expresiones regulares en Python. Vamos a utilizar el módulo \"re\" para Python para este tutorial introductivo.\n"
   ]
  },
  {
   "cell_type": "markdown",
   "metadata": {},
   "source": [
    "¡Vamos a empezar!"
   ]
  },
  {
   "cell_type": "markdown",
   "metadata": {},
   "source": [
    "# Buscar patrones en un texto"
   ]
  },
  {
   "cell_type": "markdown",
   "metadata": {},
   "source": [
    "Uno de los usos más habituales del módulo \"re\" es encontrar patrones en líneas de texto. Hagámos a continuación un ejemplo rápido mediante el método de búsqueda del modulo \"re\" para encontrar un texto:"
   ]
  },
  {
   "cell_type": "code",
   "execution_count": 20,
   "metadata": {},
   "outputs": [
    {
     "name": "stdout",
     "output_type": "stream",
     "text": [
      "Buscando coincidencia de palabra1 en en la línea de texto: \n",
      "Esta es una cadena que contiene palabra1, pero no hay ninguna otra palabra.\n",
      "---Coincidencia encontrada para palabra1---\n",
      "\n",
      "Buscando coincidencia de palabra2 en en la línea de texto: \n",
      "Esta es una cadena que contiene palabra1, pero no hay ninguna otra palabra.\n",
      "---Ninguna coincidencia encontrada para palabra2---\n",
      "\n"
     ]
    }
   ],
   "source": [
    "#importamos las funcionalidades del módulo \"re\"\n",
    "import re\n",
    "\n",
    "# Lista de los patrones que buscar\n",
    "patrones = [ 'palabra1', 'palabra2' ]\n",
    "\n",
    "# Línea de texto sobre la que buscar\n",
    "texto = 'Esta es una cadena que contiene palabra1, pero no hay ninguna otra palabra.'\n",
    "\n",
    "#Creamos un bucle \"for\" para iterar sobre cada palabra a buscar en el texto y verificamos si hay coincidencia\n",
    "for patron in patrones:\n",
    "    print(\"Buscando coincidencia de %s en en la línea de texto: \\n%s\" % (patron, texto))\n",
    "    \n",
    "    if re.search(patron,  texto):\n",
    "        print('---Coincidencia encontrada para %s---\\n'% (patron))\n",
    "    else:\n",
    "        print('---Ninguna coincidencia encontrada para %s---\\n' % (patron))"
   ]
  },
  {
   "cell_type": "markdown",
   "metadata": {},
   "source": [
    "Como podemos ver, la función **\"search\"** del modulo \"re\" busca si la cadena que se le pasa como parámetro \"patron\" se encuentra dentro de la cadena del parámetro \"texto\", devolviendo un objeto con la **posición de la palabra con la forma** si 'texto' contiene \"patron\" y **None** en caso contrario."
   ]
  },
  {
   "cell_type": "markdown",
   "metadata": {},
   "source": [
    "Este objeto \"Match\" es más que un valor Boleano o un objeto None: este contiene información de la coincidencia encontrada, incluyendo el tipo de objeto usado (re.Match), la posición del patrón encontrada en el texto (principio, fin) y la cadena introducida para la búsqueda encontrada (palabra1 en este caso). "
   ]
  },
  {
   "cell_type": "markdown",
   "metadata": {},
   "source": [
    "Por ello, como la función devuelve un objeto, mediante sus métodos es posible acceder a ciertos argumentos de esta búsqueda:"
   ]
  },
  {
   "cell_type": "code",
   "execution_count": 17,
   "metadata": {},
   "outputs": [
    {
     "data": {
      "text/plain": [
       "23"
      ]
     },
     "execution_count": 17,
     "metadata": {},
     "output_type": "execute_result"
    }
   ],
   "source": [
    "#Muestra el ínidice inicial de la palabra encontrada (palabra1)\n",
    "re.search(patrones[0], texto).start()"
   ]
  },
  {
   "cell_type": "code",
   "execution_count": 19,
   "metadata": {},
   "outputs": [
    {
     "data": {
      "text/plain": [
       "31"
      ]
     },
     "execution_count": 19,
     "metadata": {},
     "output_type": "execute_result"
    }
   ],
   "source": [
    "#Muestra el índice final de la palabra encontrada (palabra1)\n",
    "re.search(patrones[0], texto).end()"
   ]
  },
  {
   "cell_type": "markdown",
   "metadata": {},
   "source": [
    "# Split con expresiones regulares"
   ]
  },
  {
   "cell_type": "markdown",
   "metadata": {},
   "source": [
    "Vamos a ver como podemos dividir cadenas con la sintaxis \"re\". El sistema es similar al utilizado con el método \".split()\" de la clase \"string\"."
   ]
  },
  {
   "cell_type": "code",
   "execution_count": 21,
   "metadata": {},
   "outputs": [
    {
     "data": {
      "text/plain": [
       "['Cual es el nombre de dominio de alguien con el e-mail: hello', 'gmail.com?']"
      ]
     },
     "execution_count": 21,
     "metadata": {},
     "output_type": "execute_result"
    }
   ],
   "source": [
    "# Definimos el carácter separador\n",
    "separador = '@'\n",
    "\n",
    "cadena = 'Cual es el nombre de dominio de alguien con el e-mail: hello@gmail.com?'\n",
    "\n",
    "# Aplicamos la división de la cadena con el separador definido '@'\n",
    "re.split(separador,cadena)"
   ]
  },
  {
   "cell_type": "markdown",
   "metadata": {},
   "source": [
    "Notad que el método \".split()\" devuelve **una lista dividida** en la posición del separador definido, con el citado **separador eliminado** de la misma."
   ]
  },
  {
   "cell_type": "markdown",
   "metadata": {},
   "source": [
    "# Encontrando todas las instacias de un patron"
   ]
  },
  {
   "cell_type": "code",
   "execution_count": null,
   "metadata": {},
   "outputs": [],
   "source": [
    "Se puede utilizar el método \".findall()\" del módulo \"re\" para encontrar todas las veces que aparezca un carácter en una cadena. Por ejemplo:"
   ]
  },
  {
   "cell_type": "code",
   "execution_count": 24,
   "metadata": {},
   "outputs": [
    {
     "data": {
      "text/plain": [
       "['punto', 'punto', 'punto']"
      ]
     },
     "execution_count": 24,
     "metadata": {},
     "output_type": "execute_result"
    }
   ],
   "source": [
    "re.findall(\"punto\", \"Esto es una cadena que contiene dos puntos: el punto 1 y el punto 11\")"
   ]
  },
  {
   "cell_type": "code",
   "execution_count": 27,
   "metadata": {},
   "outputs": [
    {
     "data": {
      "text/plain": [
       "['1', '1', '1']"
      ]
     },
     "execution_count": 27,
     "metadata": {},
     "output_type": "execute_result"
    }
   ],
   "source": [
    "re.findall(\"1\", \"Esto es una cadena que contiene dos puntos: el punto 1 y el punto 11\")"
   ]
  },
  {
   "cell_type": "markdown",
   "metadata": {},
   "source": [
    "Notad que el método \".findall()\" devuelve **una lista que contiene tantas cadenas coincidentes como haya encontrado.** También es importante observar que busca la coincidencia literal o contenida. Por lo que \"cadenas\" incluye \"cadena\" y \"11\" incluye dos \"1\"."
   ]
  },
  {
   "cell_type": "markdown",
   "metadata": {},
   "source": [
    "# Sintaxis de los patrones con el módulo \"re\""
   ]
  },
  {
   "cell_type": "markdown",
   "metadata": {},
   "source": [
    "Las expresiones regulares admiten una gran variedad de patrones e incluso se pueden usar metacarácteres (*, +, -, ?, {}) para encontrar tipos de patrones específicos. "
   ]
  },
  {
   "cell_type": "markdown",
   "metadata": {},
   "source": [
    "Como vamos a probar varios tipos de sintaxis distintas, creemos una función que muestre por pantalla los resultados, dada una lista con algunas expresiones regulares y una cadena de texto sobre la que realizar la búsqueda:"
   ]
  },
  {
   "cell_type": "code",
   "execution_count": 34,
   "metadata": {},
   "outputs": [],
   "source": [
    "#Definimos la función de búsqueda múltiple\n",
    "def encontrar_multiple(patrones,cadena):\n",
    "    '''\n",
    "    Toma una lista de patrones \"re\"\n",
    "    Devuelve y muestra una lista con las coincidencias\n",
    "    '''\n",
    "    for patron in patrones:\n",
    "        print('Buscando en la cadena usando el patron: %r' % patron)\n",
    "        print(re.findall(patron,cadena))\n",
    "        print('\\n')"
   ]
  },
  {
   "cell_type": "markdown",
   "metadata": {},
   "source": [
    "### Sintaxis de repetición"
   ]
  },
  {
   "cell_type": "markdown",
   "metadata": {},
   "source": [
    "Hay cinco maneras de expresar repetición en un patrón:"
   ]
  },
  {
   "cell_type": "markdown",
   "metadata": {},
   "source": [
    "1\\. Un patrón seguido del meta-carácter \"*\" busca y devuelve patrones que coincidan al menos con el primer carácter del patrón"
   ]
  },
  {
   "cell_type": "markdown",
   "metadata": {},
   "source": [
    "2\\. Un patrón seguido del meta-carácter \"+\" busca y devuelve patrones que coincidan al menos con el patrón entero"
   ]
  },
  {
   "cell_type": "markdown",
   "metadata": {},
   "source": [
    "3\\. Un patrón seguido del meta-carácter \"?\" busca y devuelve patrones que coincidan al menos con el patrón entero y sus partes acumuladas (empezando por el índice 0)"
   ]
  },
  {
   "cell_type": "markdown",
   "metadata": {},
   "source": [
    "4\\. Un patrón seguido del meta-carácter \"{m}\", busca y devuelve patrones donde \"m\" son las veces que el patron debería aparecer"
   ]
  },
  {
   "cell_type": "markdown",
   "metadata": {},
   "source": [
    "5\\. Un patrón seguido del meta-carácter \"{m,n}\", busca y devuelve patrones donde \"m\" son las veces que el patron debería aparecer como mínimo, y \"n\" son las veces que el patron debería aparecer como máximo "
   ]
  },
  {
   "cell_type": "code",
   "execution_count": 35,
   "metadata": {},
   "outputs": [
    {
     "name": "stdout",
     "output_type": "stream",
     "text": [
      "Buscando en la cadena usando el patron: 'sd*'\n",
      "['sd', 'sd', 's', 's', 'sddd', 'sddd', 'sddd', 'sd', 's', 's', 's', 's', 's', 's', 'sdddd']\n",
      "\n",
      "\n",
      "Buscando en la cadena usando el patron: 'sd+'\n",
      "['sd', 'sd', 'sddd', 'sddd', 'sddd', 'sd', 'sdddd']\n",
      "\n",
      "\n",
      "Buscando en la cadena usando el patron: 'sd?'\n",
      "['sd', 'sd', 's', 's', 'sd', 'sd', 'sd', 'sd', 's', 's', 's', 's', 's', 's', 'sd']\n",
      "\n",
      "\n",
      "Buscando en la cadena usando el patron: 'sd{3}'\n",
      "['sddd', 'sddd', 'sddd', 'sddd']\n",
      "\n",
      "\n",
      "Buscando en la cadena usando el patron: 'sd{2,3}'\n",
      "['sddd', 'sddd', 'sddd', 'sddd']\n",
      "\n",
      "\n"
     ]
    }
   ],
   "source": [
    "cadena_prueba = 'sdsd..sssddd...sdddsddd...dsds...dsssss...sdddd'\n",
    "\n",
    "patrones_prueba = [ 'sd*',     # \"s\" seguido de cero o mas \"d\"\n",
    "                'sd+',          # \"s\" seguido de una o mas \"d\"\n",
    "                'sd?',          # \"s\" seguido de cero o una \"d\"\n",
    "                'sd{3}',        # \"s\" seguido tres \"d\"\n",
    "                'sd{2,3}',      # \"s\" seguido de entre dos y tres \"d\"\n",
    "                ]\n",
    "\n",
    "encontrar_multiple(patrones_prueba,cadena_prueba)"
   ]
  },
  {
   "cell_type": "markdown",
   "metadata": {},
   "source": [
    "# Sets de carácteres"
   ]
  },
  {
   "cell_type": "markdown",
   "metadata": {},
   "source": [
    "Los sets de carácteres se usan cuando se desea una coincidencia de cualquiera de los carácteres dado un grupo de carácteres. Se utilizan los corchetes '[]' para crear el set, de manera que [AB] va a buscar cualquier 'A' o cualquier 'B' dentro de un texto dado. Lo podemos ver en el siguiente ejemplo:"
   ]
  },
  {
   "cell_type": "code",
   "execution_count": 39,
   "metadata": {
    "scrolled": true
   },
   "outputs": [
    {
     "name": "stdout",
     "output_type": "stream",
     "text": [
      "Buscando en la cadena usando el patron: '[sd]'\n",
      "['s', 'd', 's', 'd', 's', 's', 's', 'd', 'd', 'd', 's', 'd', 'd', 'd', 's', 'd', 'd', 'd', 'd', 's', 'd', 's', 'd', 's', 's', 's', 's', 's', 's', 'd', 'd', 'd', 'd']\n",
      "\n",
      "\n",
      "Buscando en la cadena usando el patron: 's[sd]+'\n",
      "['sdsd', 'sssddd', 'sdddsddd', 'sds', 'sssss', 'sdddd']\n",
      "\n",
      "\n"
     ]
    }
   ],
   "source": [
    "cadena_prueba = 'sdsd..sssddd...sdddsddd...dsds...dsssss...sdddd'\n",
    "\n",
    "patron_prueba = [ '[sd]',    # devuelve las 's' y las 'd'\n",
    "                 's[sd]+']        # devuelve las 's' seguidas de una o más 's' o 'd'\n",
    "            \n",
    "encontrar_multiple(patron_prueba, cadena_prueba)"
   ]
  },
  {
   "cell_type": "markdown",
   "metadata": {},
   "source": [
    "En el primer caso **'[sd]'**, tiene sentido que la función devuelva todas las 's' y todas las 'd' de la cadena (ya que las busca individualmente y todas las palabras contienen 's' o 'd').\n",
    "En el segundo caso **'s[sd]+'**, la función devolverá cualquier 's' seguida de un patrón con 's' o 'd'.\n",
    "                                                                                    "
   ]
  },
  {
   "cell_type": "markdown",
   "metadata": {},
   "source": [
    "# Exclusión de carácteres"
   ]
  },
  {
   "cell_type": "markdown",
   "metadata": {},
   "source": [
    "Se puede utilizar el meta-carácter **'^'** para excluir carácteres, incorporándolo en la notación sintáctica de corchetes **'[]'**. Por ejemplo, **'[^...]'** va a devolver una lista de todos los carácteres que no esten en dicho corchete. Veámoslo en un ejemplo: "
   ]
  },
  {
   "cell_type": "code",
   "execution_count": 40,
   "metadata": {},
   "outputs": [],
   "source": [
    "cadena_prueba = 'Esto es una cadena de texto! Pero tiene signos de puntuación. ¿Cómo podemos quitarlos?'"
   ]
  },
  {
   "cell_type": "markdown",
   "metadata": {},
   "source": [
    "Usaremos '[^!.?¿ ]' como parámetro del método .findall() para buscar los cáracteres que no coincidan con nada dentro del corchete ('!', '.', '?', '¿', ' '):"
   ]
  },
  {
   "cell_type": "code",
   "execution_count": 46,
   "metadata": {},
   "outputs": [
    {
     "data": {
      "text/plain": [
       "['Esto',\n",
       " 'es',\n",
       " 'una',\n",
       " 'cadena',\n",
       " 'de',\n",
       " 'texto',\n",
       " 'Pero',\n",
       " 'tiene',\n",
       " 'signos',\n",
       " 'de',\n",
       " 'puntuación',\n",
       " 'Cómo',\n",
       " 'podemos',\n",
       " 'quitarlos']"
      ]
     },
     "execution_count": 46,
     "metadata": {},
     "output_type": "execute_result"
    }
   ],
   "source": [
    "re.findall('[^!.?¿ ]+', cadena_prueba)"
   ]
  },
  {
   "cell_type": "markdown",
   "metadata": {},
   "source": [
    "# Rángos de carácteres"
   ]
  },
  {
   "cell_type": "markdown",
   "metadata": {},
   "source": [
    "A medida que los sets de caracteres se van haciendo grandes, especificar qué carácter debería (o no debería) coincidir con la cadena a analizar, puede volverse una tarea tediosa. Hay un formato más compacto mediante el uso de **rangos de carácteres** que permite **definir un set de carácteres entre un punto inicial y un punto final**. La notación sintáctica es [inicial-final]. Un uso común para esta técnica es el de encontrar carácteres dado un rango determinado de letras: [a-f] buscará todas los patrones que contengan cualquier letra entre la 'a' y la 'f'."
   ]
  },
  {
   "cell_type": "markdown",
   "metadata": {},
   "source": [
    "Veamos el siguiente ejemplo:"
   ]
  },
  {
   "cell_type": "code",
   "execution_count": 63,
   "metadata": {},
   "outputs": [
    {
     "name": "stdout",
     "output_type": "stream",
     "text": [
      "Buscando en la cadena usando el patron: '[a-z]+'\n",
      "['sta', 'es', 'una', 'cadena', 'de', 'ejemplo', 'eamos', 'si', 'podemos', 'encontrar', 'alg', 'n', 'match']\n",
      "\n",
      "\n",
      "Buscando en la cadena usando el patron: '[A-Z]+'\n",
      "['V']\n",
      "\n",
      "\n",
      "Buscando en la cadena usando el patron: '[a-zA-Z]+'\n",
      "['sta', 'es', 'una', 'cadena', 'de', 'ejemplo', 'Veamos', 'si', 'podemos', 'encontrar', 'alg', 'n', 'match']\n",
      "\n",
      "\n",
      "Buscando en la cadena usando el patron: '[A-Z][a-z]+'\n",
      "['Veamos']\n",
      "\n",
      "\n",
      "Buscando en la cadena usando el patron: '[á-úÁ-Ú][a-uA-U]+'\n",
      "['Ésta', 'ún']\n",
      "\n",
      "\n"
     ]
    }
   ],
   "source": [
    "cadena_prueba = 'Ésta es una cadena de ejemplo. Veamos si podemos encontrar algún match.'\n",
    "\n",
    "patron_prueba = [ '[a-z]+',              # Devuelve las secuencias que incluyan cualquier minúscula seguida de otro carácter.\n",
    "                  '[A-Z]+',              # Devuelve las secuencias que incluyan cualquier mayúscula seguida de otro carácter.\n",
    "                  '[a-zA-Z]+',           # Devuelve las secuencias de letras sin signos, seguidas de otro carácter.\n",
    "                  '[A-Z][a-z]+',         # Devuelve las secuencias que incluyan cualquier mayúscula seguida de cualquier minúscula, seguida de mínimo, otro carácter.\n",
    "                  '[á-úÁ-Ú][a-uA-U]+']   # Devuelve las secuencias de cualquier palabra que empiece con accentos, seguidas de otro/s carácter.\n",
    "                \n",
    "encontrar_multiple(patron_prueba, cadena_prueba)"
   ]
  },
  {
   "cell_type": "markdown",
   "metadata": {},
   "source": [
    "# Códigos de escape"
   ]
  },
  {
   "cell_type": "markdown",
   "metadata": {},
   "source": [
    "Pueden usarse códigos especiales para encontrar tipos específicso de patrones en los datos, tales como dígitos, no-dígitos, espacios en blanco, espacios no-blancos, carácteres alfanuméricos, carácteres no-alfanuméricos... y más. Por ejemplo:"
   ]
  },
  {
   "cell_type": "markdown",
   "metadata": {},
   "source": [
    " 1.    '\\d'________un dígito\n",
    " 2.    '\\D'________un no-dígito\n",
    " 3.    '\\s'________un espacio (tab, espacio, nueva línea...)\n",
    " 4.    '\\S'________un no-espacio\n",
    " 5.    '\\w'________un alfanumérico\n",
    " 6.    '\\W'________un no-alfanumérico"
   ]
  },
  {
   "cell_type": "raw",
   "metadata": {},
   "source": [
    "Según la notación sintáctica de los códigos de escape, éstos deben ir **precedidos del backslash '\\'**. Desafortunadamente, un backslash en Python debe escribirse dentro de una cadena, y eso causa expresiones difíciles de leer. El uso de cadenas sin formato, creadas al anteponer **'r'** al backslash, permite crear expresiones regulares eliminando este problema y mantieniendo la legibilidad."
   ]
  },
  {
   "cell_type": "markdown",
   "metadata": {},
   "source": [
    "Personalmente, creo que este uso de 'r' para implementar los backslash ne cadenas de texto puede dificultar a alguien que no esté familiarizado con la expresión regular en Python que pueda leer el código de expresión regular. Veámoslo con un ejemplo:"
   ]
  },
  {
   "cell_type": "code",
   "execution_count": 69,
   "metadata": {},
   "outputs": [
    {
     "name": "stdout",
     "output_type": "stream",
     "text": [
      "Buscando en la cadena usando el patron: '.'\n",
      "['E', 's', 't', 'a', ' ', 'e', 's', ' ', 'u', 'n', 'a', ' ', 'c', 'a', 'd', 'e', 'n', 'a', ' ', 'c', 'o', 'n', ' ', 'a', 'l', 'g', 'u', 'n', 'o', 's', ' ', 'n', 'u', 'm', 'e', 'r', 'o', 's', ' ', '1', '2', '3', '4', ' ', 'y', ' ', 'u', 'n', ' ', '#', 'h', 'a', 's', 'h', 't', 'a', 'g', ' ', 'd', 'e', ' ', 'p', 'r', 'u', 'e', 'b', 'a']\n",
      "\n",
      "\n",
      "Buscando en la cadena usando el patron: '\\\\d+'\n",
      "['1234']\n",
      "\n",
      "\n",
      "Buscando en la cadena usando el patron: '\\\\D+'\n",
      "['Esta es una cadena con algunos numeros ', ' y un #hashtag de prueba']\n",
      "\n",
      "\n",
      "Buscando en la cadena usando el patron: '\\\\s+'\n",
      "[' ', ' ', ' ', ' ', ' ', ' ', ' ', ' ', ' ', ' ', ' ', ' ']\n",
      "\n",
      "\n",
      "Buscando en la cadena usando el patron: '\\\\S+'\n",
      "['Esta', 'es', 'una', 'cadena', 'con', 'algunos', 'numeros', '1234', 'y', 'un', '#hashtag', 'de', 'prueba']\n",
      "\n",
      "\n",
      "Buscando en la cadena usando el patron: '\\\\w+'\n",
      "['Esta', 'es', 'una', 'cadena', 'con', 'algunos', 'numeros', '1234', 'y', 'un', 'hashtag', 'de', 'prueba']\n",
      "\n",
      "\n",
      "Buscando en la cadena usando el patron: '\\\\W+'\n",
      "[' ', ' ', ' ', ' ', ' ', ' ', ' ', ' ', ' ', ' #', ' ', ' ']\n",
      "\n",
      "\n"
     ]
    }
   ],
   "source": [
    "cadena_prueba = 'Esta es una cadena con algunos numeros 1234 y un #hashtag de prueba'\n",
    "\n",
    "patron_prueba = [ r'.',   # Secuencia de cualquier carácter menos nueva línea \n",
    "                  r'\\d+', # Secuencia de dígitos\n",
    "                  r'\\D+', # Secuencia de no-dígitos\n",
    "                  r'\\s+', # Secuencia de espacio en blanco\n",
    "                  r'\\S+', # Secuencia de no-espacio\n",
    "                  r'\\w+', # Secuencia de carácteres alfanuméricos\n",
    "                  r'\\W+', # Secuencia de carácteres no-alfanuméricos\n",
    "                ]\n",
    "\n",
    "encontrar_multiple(patron_prueba, cadena_prueba)"
   ]
  },
  {
   "cell_type": "markdown",
   "metadata": {},
   "source": [
    "# Conclusiones"
   ]
  },
  {
   "cell_type": "markdown",
   "metadata": {},
   "source": [
    "Ahora ya tenemos una visión básica del uso sobre las expresiones regulares en Python. Hay muchos otros casos y usos en que son útiles dichas expresiones.\n",
    "Por ello, lo recomendable sería revisar la documentación oficial para aprender más: https://docs.python.org/2/library/re.html#\n",
    "     "
   ]
  },
  {
   "cell_type": "markdown",
   "metadata": {},
   "source": [
    "Aquí también dejamos un tutorial más completo: http://www.tutorialspoint.com/python/python_reg_expressions.htm    "
   ]
  },
  {
   "cell_type": "code",
   "execution_count": null,
   "metadata": {},
   "outputs": [],
   "source": []
  }
 ],
 "metadata": {
  "kernelspec": {
   "display_name": "Python 3",
   "language": "python",
   "name": "python3"
  },
  "language_info": {
   "codemirror_mode": {
    "name": "ipython",
    "version": 3
   },
   "file_extension": ".py",
   "mimetype": "text/x-python",
   "name": "python",
   "nbconvert_exporter": "python",
   "pygments_lexer": "ipython3",
   "version": "3.7.3"
  }
 },
 "nbformat": 4,
 "nbformat_minor": 2
}
